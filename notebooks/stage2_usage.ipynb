{
  "cells": [
    {
      "cell_type": "markdown",
      "metadata": {},
      "source": [
        "# Stage 2 Usage Examples (LangChain Reasoning & Router)\n",
        "\n",
        "This notebook demonstrates how to use the Stage 2 chains to query the synthetic payments dataset and obtain concise summaries.\n",
        "\n",
        "- Routed Q&A via `router_chain.ask()`\n",
        "- Direct code generation and execution via `query_chain`\n",
        "- Summarization via `summary_chain`\n",
        "- Optional: enabling LLM with `OPENAI_API_KEY` (otherwise heuristic fallback is used)\n"
      ]
    },
    {
      "cell_type": "code",
      "execution_count": 2,
      "metadata": {},
      "outputs": [
        {
          "data": {
            "text/plain": [
              "False"
            ]
          },
          "execution_count": 2,
          "metadata": {},
          "output_type": "execute_result"
        }
      ],
      "source": [
        "# optional: load .env for local development\n",
        "#%pip install -q python-dotenv\n",
        "from dotenv import load_dotenv\n",
        "load_dotenv()  # loads variables from .env into the process env\n"
      ]
    },
    {
      "cell_type": "code",
      "execution_count": null,
      "metadata": {},
      "outputs": [],
      "source": [
        "# Setup imports and paths\n",
        "import os, sys\n",
        "from pathlib import Path\n",
        "import pandas as pd\n",
        "\n",
        "# Ensure project root on path\n",
        "PROJECT_ROOT = str(Path.cwd().parent)\n",
        "if PROJECT_ROOT not in sys.path:\n",
        "    sys.path.append(PROJECT_ROOT)\n",
        "\n",
        "print('Project root:', PROJECT_ROOT)\n",
        "print('OPENAI_API_KEY set:', bool(os.getenv('OPENAI_API_KEY')))\n",
        "\n",
        "DATA_PATH = str(Path(PROJECT_ROOT) / 'data' / 'payments.csv')\n",
        "print('Data path:', DATA_PATH)\n"
      ]
    },
    {
      "cell_type": "code",
      "execution_count": null,
      "metadata": {},
      "outputs": [],
      "source": [
        "# Load dataset preview\n",
        "df = pd.read_csv(DATA_PATH, parse_dates=['timestamp'])\n",
        "print(f\"Rows: {len(df):,} | Columns: {len(df.columns)}\")\n",
        "df.head(3)\n"
      ]
    },
    {
      "cell_type": "code",
      "execution_count": null,
      "metadata": {},
      "outputs": [],
      "source": [
        "# Example 1: Routed data Q&A\n",
        "from src.chains.router_chain import ask\n",
        "\n",
        "q1 = \"Which merchants had the highest total revenue last month?\"\n",
        "resp1 = ask(q1)\n",
        "print('Route:', resp1['route'])\n",
        "print('Answer:', resp1['answer'])\n",
        "\n",
        "# Convert table (list of dicts) back into a DataFrame for display\n",
        "if resp1.get('table'):\n",
        "    pd.DataFrame(resp1['table']).head(10)\n"
      ]
    },
    {
      "cell_type": "code",
      "execution_count": null,
      "metadata": {},
      "outputs": [],
      "source": [
        "# Example 2: Another routed question\n",
        "q2 = \"Which country has the highest average transaction amount?\"\n",
        "resp2 = ask(q2)\n",
        "print('Route:', resp2['route'])\n",
        "print('Answer:', resp2['answer'])\n",
        "\n",
        "if resp2.get('table'):\n",
        "    pd.DataFrame(resp2['table']).head(10)\n"
      ]
    },
    {
      "cell_type": "code",
      "execution_count": null,
      "metadata": {},
      "outputs": [],
      "source": [
        "# Example 3: Direct query chain usage\n",
        "from src.chains.query_chain import run as run_query\n",
        "\n",
        "q3 = \"Top 10 merchants by total revenue\"\n",
        "res3 = run_query(q3)\n",
        "print('Keys:', list(res3.keys()))\n",
        "\n",
        "# Reconstruct DataFrame from 'split' orient\n",
        "split = res3['table']\n",
        "df3 = pd.DataFrame(split['data'], columns=split['columns'])\n",
        "df3.head(10)\n"
      ]
    },
    {
      "cell_type": "code",
      "execution_count": null,
      "metadata": {},
      "outputs": [],
      "source": [
        "# Example 4: Summarize a result explicitly\n",
        "from src.chains.summary_chain import SummaryChain\n",
        "\n",
        "summary = SummaryChain().run(q3, df3)\n",
        "print(summary)\n"
      ]
    },
    {
      "cell_type": "code",
      "execution_count": null,
      "metadata": {},
      "outputs": [],
      "source": [
        "# Example 5 (optional): Async ask()\n",
        "# If the notebook environment has an event loop, fallback to sync.\n",
        "try:\n",
        "    import asyncio\n",
        "    from src.chains.router_chain import ask_async\n",
        "    \n",
        "    def run_async_example():\n",
        "        q = \"What was the total payment volume last week?\"\n",
        "        try:\n",
        "            resp = asyncio.run(ask_async(q))\n",
        "        except RuntimeError:\n",
        "            # Fallback if event loop is already running\n",
        "            resp = ask(q)\n",
        "        print('Route:', resp['route'])\n",
        "        print('Answer:', resp['answer'])\n",
        "        return resp\n",
        "    \n",
        "    _ = run_async_example()\n",
        "except Exception as e:\n",
        "    print('Async example skipped:', e)\n"
      ]
    }
  ],
  "metadata": {
    "kernelspec": {
      "display_name": ".venv",
      "language": "python",
      "name": "python3"
    },
    "language_info": {
      "codemirror_mode": {
        "name": "ipython",
        "version": 3
      },
      "file_extension": ".py",
      "mimetype": "text/x-python",
      "name": "python",
      "nbconvert_exporter": "python",
      "pygments_lexer": "ipython3",
      "version": "3.10.12"
    }
  },
  "nbformat": 4,
  "nbformat_minor": 2
}
