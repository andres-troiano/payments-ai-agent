{
  "cells": [
    {
      "cell_type": "markdown",
      "metadata": {},
      "source": [
        "# Stage 2 Usage Examples (LangChain Reasoning & Router)\n",
        "\n",
        "This notebook demonstrates how to use the Stage 2 chains to query the synthetic payments dataset and obtain concise summaries.\n",
        "\n",
        "- Routed Q&A via `router_chain.ask()`\n",
        "- Direct code generation and execution via `query_chain`\n",
        "- Summarization via `summary_chain`\n",
        "- Optional: enabling LLM with `OPENAI_API_KEY` (otherwise heuristic fallback is used)\n"
      ]
    },
    {
      "cell_type": "code",
      "execution_count": 1,
      "metadata": {},
      "outputs": [
        {
          "data": {
            "text/plain": [
              "True"
            ]
          },
          "execution_count": 1,
          "metadata": {},
          "output_type": "execute_result"
        }
      ],
      "source": [
        "# optional: load .env for local development\n",
        "#%pip install -q python-dotenv\n",
        "from dotenv import load_dotenv\n",
        "load_dotenv()  # loads variables from .env into the process env\n"
      ]
    },
    {
      "cell_type": "code",
      "execution_count": 2,
      "metadata": {},
      "outputs": [],
      "source": [
        "import logging\n",
        "logging.basicConfig(level=logging.INFO, format='[%(name)s] %(levelname)s: %(message)s')"
      ]
    },
    {
      "cell_type": "code",
      "execution_count": 3,
      "metadata": {},
      "outputs": [
        {
          "name": "stdout",
          "output_type": "stream",
          "text": [
            "Project root: /home/andres/Documents/chat-payments\n",
            "OPENAI_API_KEY set: True\n",
            "Data path: /home/andres/Documents/chat-payments/data/payments.csv\n"
          ]
        }
      ],
      "source": [
        "# Setup imports and paths\n",
        "import os, sys\n",
        "from pathlib import Path\n",
        "import pandas as pd\n",
        "\n",
        "# Ensure project root on path\n",
        "PROJECT_ROOT = str(Path.cwd().parent)\n",
        "if PROJECT_ROOT not in sys.path:\n",
        "    sys.path.append(PROJECT_ROOT)\n",
        "\n",
        "print('Project root:', PROJECT_ROOT)\n",
        "print('OPENAI_API_KEY set:', bool(os.getenv('OPENAI_API_KEY')))\n",
        "\n",
        "DATA_PATH = str(Path(PROJECT_ROOT) / 'data' / 'payments.csv')\n",
        "print('Data path:', DATA_PATH)\n"
      ]
    },
    {
      "cell_type": "code",
      "execution_count": 4,
      "metadata": {},
      "outputs": [
        {
          "name": "stdout",
          "output_type": "stream",
          "text": [
            "LLM_PROVIDER = groq\n",
            "LLM_MODEL    = None\n",
            "GROQ_API_KEY set? True\n"
          ]
        }
      ],
      "source": [
        "print(\"LLM_PROVIDER =\", os.getenv(\"LLM_PROVIDER\"))\n",
        "print(\"LLM_MODEL    =\", os.getenv(\"LLM_MODEL\"))\n",
        "print(\"GROQ_API_KEY set?\", bool(os.getenv(\"GROQ_API_KEY\")))"
      ]
    },
    {
      "cell_type": "code",
      "execution_count": 5,
      "metadata": {},
      "outputs": [
        {
          "name": "stdout",
          "output_type": "stream",
          "text": [
            "Rows: 10,000 | Columns: 11\n"
          ]
        },
        {
          "data": {
            "text/html": [
              "<div>\n",
              "<style scoped>\n",
              "    .dataframe tbody tr th:only-of-type {\n",
              "        vertical-align: middle;\n",
              "    }\n",
              "\n",
              "    .dataframe tbody tr th {\n",
              "        vertical-align: top;\n",
              "    }\n",
              "\n",
              "    .dataframe thead th {\n",
              "        text-align: right;\n",
              "    }\n",
              "</style>\n",
              "<table border=\"1\" class=\"dataframe\">\n",
              "  <thead>\n",
              "    <tr style=\"text-align: right;\">\n",
              "      <th></th>\n",
              "      <th>transaction_id</th>\n",
              "      <th>user_id</th>\n",
              "      <th>segment</th>\n",
              "      <th>country</th>\n",
              "      <th>merchant</th>\n",
              "      <th>category</th>\n",
              "      <th>amount</th>\n",
              "      <th>timestamp</th>\n",
              "      <th>device_type</th>\n",
              "      <th>is_refunded</th>\n",
              "      <th>is_fraudulent</th>\n",
              "    </tr>\n",
              "  </thead>\n",
              "  <tbody>\n",
              "    <tr>\n",
              "      <th>0</th>\n",
              "      <td>879463009885</td>\n",
              "      <td>208</td>\n",
              "      <td>SMB</td>\n",
              "      <td>AR</td>\n",
              "      <td>Microsoft</td>\n",
              "      <td>electronics</td>\n",
              "      <td>126.02</td>\n",
              "      <td>2023-01-01 01:04:39+00:00</td>\n",
              "      <td>tablet</td>\n",
              "      <td>False</td>\n",
              "      <td>False</td>\n",
              "    </tr>\n",
              "    <tr>\n",
              "      <th>1</th>\n",
              "      <td>404737561214</td>\n",
              "      <td>183</td>\n",
              "      <td>consumer</td>\n",
              "      <td>US</td>\n",
              "      <td>Telcel</td>\n",
              "      <td>telco</td>\n",
              "      <td>48.31</td>\n",
              "      <td>2023-01-01 03:08:19+00:00</td>\n",
              "      <td>tablet</td>\n",
              "      <td>False</td>\n",
              "      <td>False</td>\n",
              "    </tr>\n",
              "    <tr>\n",
              "      <th>2</th>\n",
              "      <td>12503321040</td>\n",
              "      <td>155</td>\n",
              "      <td>consumer</td>\n",
              "      <td>BR</td>\n",
              "      <td>Oxxo</td>\n",
              "      <td>retail</td>\n",
              "      <td>10.56</td>\n",
              "      <td>2023-01-01 08:52:04+00:00</td>\n",
              "      <td>mobile</td>\n",
              "      <td>False</td>\n",
              "      <td>False</td>\n",
              "    </tr>\n",
              "  </tbody>\n",
              "</table>\n",
              "</div>"
            ],
            "text/plain": [
              "   transaction_id  user_id   segment country   merchant     category  amount  \\\n",
              "0    879463009885      208       SMB      AR  Microsoft  electronics  126.02   \n",
              "1    404737561214      183  consumer      US     Telcel        telco   48.31   \n",
              "2     12503321040      155  consumer      BR       Oxxo       retail   10.56   \n",
              "\n",
              "                  timestamp device_type  is_refunded  is_fraudulent  \n",
              "0 2023-01-01 01:04:39+00:00      tablet        False          False  \n",
              "1 2023-01-01 03:08:19+00:00      tablet        False          False  \n",
              "2 2023-01-01 08:52:04+00:00      mobile        False          False  "
            ]
          },
          "execution_count": 5,
          "metadata": {},
          "output_type": "execute_result"
        }
      ],
      "source": [
        "# Load dataset preview\n",
        "df = pd.read_csv(DATA_PATH, parse_dates=['timestamp'])\n",
        "print(f\"Rows: {len(df):,} | Columns: {len(df.columns)}\")\n",
        "df.head(3)\n"
      ]
    },
    {
      "cell_type": "code",
      "execution_count": 6,
      "metadata": {},
      "outputs": [
        {
          "name": "stderr",
          "output_type": "stream",
          "text": [
            "[src.chains.llm_factory] INFO: *** PROVIDER NAME: groq\n",
            "[src.chains.llm_factory] INFO: *** MODEL NAME: llama3-70b-8192\n",
            "/home/andres/Documents/chat-payments/src/chains/query_chain.py:119: LangChainDeprecationWarning: The class `LLMChain` was deprecated in LangChain 0.1.17 and will be removed in 1.0. Use :meth:`~RunnableSequence, e.g., `prompt | llm`` instead.\n",
            "  self.llm_chain = LLMChain(llm=llm, prompt=sql_prompt_template)\n",
            "[src.chains.query_chain] INFO: QueryChain initialized with LLM provider=groq model=auto\n",
            "[src.chains.query_chain] INFO: QueryChain using LLM for question: Which merchants had the highest total revenue last month?\n",
            "/home/andres/Documents/chat-payments/src/chains/query_chain.py:131: LangChainDeprecationWarning: The method `Chain.run` was deprecated in langchain 0.1.0 and will be removed in 1.0. Use :meth:`~invoke` instead.\n",
            "  return self.llm_chain.run({\"question\": question})  # type: ignore\n",
            "[httpx] INFO: HTTP Request: POST https://api.groq.com/openai/v1/chat/completions \"HTTP/1.1 400 Bad Request\"\n",
            "[src.chains.query_chain] INFO: QueryChain LLM error; falling back for question: Which merchants had the highest total revenue last month?\n",
            "[src.chains.llm_factory] INFO: *** PROVIDER NAME: groq\n",
            "[src.chains.llm_factory] INFO: *** MODEL NAME: llama3-70b-8192\n",
            "[src.chains.summary_chain] INFO: SummaryChain initialized with LLM provider=groq model=auto\n",
            "[src.chains.summary_chain] INFO: SummaryChain using LLM for question: Which merchants had the highest total revenue last month?\n",
            "[httpx] INFO: HTTP Request: POST https://api.groq.com/openai/v1/chat/completions \"HTTP/1.1 400 Bad Request\"\n",
            "[src.chains.summary_chain] INFO: SummaryChain LLM error; falling back for question: Which merchants had the highest total revenue last month?\n"
          ]
        },
        {
          "name": "stdout",
          "output_type": "stream",
          "text": [
            "[router] llm_used=True provider=groq model=auto\n",
            "Route: data\n",
            "Answer: Summary for 'Which merchants had the highest total revenue last month?': 10 rows. Top rows:\n",
            "| merchant   |   amount |\n",
            "|:-----------|---------:|\n",
            "| Apple      |  75567.6 |\n",
            "| BestBuy    |  57285.5 |\n",
            "| Microsoft  |  41248.8 |\n",
            "| Delta      |  34953.3 |\n",
            "| Airbnb     |  32691.9 |\n"
          ]
        }
      ],
      "source": [
        "# Example 1: Routed data Q&A\n",
        "from src.chains.router_chain import ask\n",
        "\n",
        "q1 = \"Which merchants had the highest total revenue last month?\"\n",
        "resp1 = ask(q1)\n",
        "print('Route:', resp1['route'])\n",
        "print('Answer:', resp1['answer'])\n",
        "\n",
        "# Convert table (list of dicts) back into a DataFrame for display\n",
        "if resp1.get('table'):\n",
        "    pd.DataFrame(resp1['table']).head(10)\n"
      ]
    },
    {
      "cell_type": "code",
      "execution_count": 13,
      "metadata": {},
      "outputs": [
        {
          "name": "stderr",
          "output_type": "stream",
          "text": [
            "[src.chains.query_chain] INFO: QueryChain initialized without LLM; using heuristic fallback\n",
            "[src.chains.query_chain] INFO: QueryChain using heuristic fallback for question: Which country has the highest average transaction amount?\n",
            "[src.chains.summary_chain] INFO: SummaryChain initialized without LLM; using heuristic fallback\n",
            "[src.chains.summary_chain] INFO: SummaryChain using heuristic fallback for question: Which country has the highest average transaction amount?\n"
          ]
        },
        {
          "name": "stdout",
          "output_type": "stream",
          "text": [
            "[router] llm_used=False provider=- model=-\n",
            "Route: data\n",
            "Answer: Summary for 'Which country has the highest average transaction amount?': 5 rows. Top rows:\n",
            "| country   |   amount |\n",
            "|:----------|---------:|\n",
            "| US        |  49.8392 |\n",
            "| BR        |  46.391  |\n",
            "| AR        |  41.9231 |\n",
            "| CL        |  41.3484 |\n",
            "| MX        |  38.164  |\n"
          ]
        }
      ],
      "source": [
        "# Example 2: Another routed question\n",
        "q2 = \"Which country has the highest average transaction amount?\"\n",
        "resp2 = ask(q2)\n",
        "print('Route:', resp2['route'])\n",
        "print('Answer:', resp2['answer'])\n",
        "\n",
        "if resp2.get('table'):\n",
        "    pd.DataFrame(resp2['table']).head(10)\n"
      ]
    },
    {
      "cell_type": "code",
      "execution_count": 14,
      "metadata": {},
      "outputs": [
        {
          "name": "stderr",
          "output_type": "stream",
          "text": [
            "[src.chains.query_chain] INFO: QueryChain initialized without LLM; using heuristic fallback\n",
            "[src.chains.query_chain] INFO: QueryChain using heuristic fallback for question: Top 10 merchants by total revenue\n"
          ]
        },
        {
          "name": "stdout",
          "output_type": "stream",
          "text": [
            "Keys: ['answer', 'table']\n"
          ]
        },
        {
          "data": {
            "text/html": [
              "<div>\n",
              "<style scoped>\n",
              "    .dataframe tbody tr th:only-of-type {\n",
              "        vertical-align: middle;\n",
              "    }\n",
              "\n",
              "    .dataframe tbody tr th {\n",
              "        vertical-align: top;\n",
              "    }\n",
              "\n",
              "    .dataframe thead th {\n",
              "        text-align: right;\n",
              "    }\n",
              "</style>\n",
              "<table border=\"1\" class=\"dataframe\">\n",
              "  <thead>\n",
              "    <tr style=\"text-align: right;\">\n",
              "      <th></th>\n",
              "      <th>transaction_id</th>\n",
              "      <th>user_id</th>\n",
              "      <th>segment</th>\n",
              "      <th>country</th>\n",
              "      <th>merchant</th>\n",
              "      <th>category</th>\n",
              "      <th>amount</th>\n",
              "      <th>timestamp</th>\n",
              "      <th>device_type</th>\n",
              "      <th>is_refunded</th>\n",
              "      <th>is_fraudulent</th>\n",
              "    </tr>\n",
              "  </thead>\n",
              "  <tbody>\n",
              "    <tr>\n",
              "      <th>0</th>\n",
              "      <td>879463009885</td>\n",
              "      <td>208</td>\n",
              "      <td>SMB</td>\n",
              "      <td>AR</td>\n",
              "      <td>Microsoft</td>\n",
              "      <td>electronics</td>\n",
              "      <td>126.02</td>\n",
              "      <td>2023-01-01 01:04:39+00:00</td>\n",
              "      <td>tablet</td>\n",
              "      <td>False</td>\n",
              "      <td>False</td>\n",
              "    </tr>\n",
              "    <tr>\n",
              "      <th>1</th>\n",
              "      <td>404737561214</td>\n",
              "      <td>183</td>\n",
              "      <td>consumer</td>\n",
              "      <td>US</td>\n",
              "      <td>Telcel</td>\n",
              "      <td>telco</td>\n",
              "      <td>48.31</td>\n",
              "      <td>2023-01-01 03:08:19+00:00</td>\n",
              "      <td>tablet</td>\n",
              "      <td>False</td>\n",
              "      <td>False</td>\n",
              "    </tr>\n",
              "    <tr>\n",
              "      <th>2</th>\n",
              "      <td>12503321040</td>\n",
              "      <td>155</td>\n",
              "      <td>consumer</td>\n",
              "      <td>BR</td>\n",
              "      <td>Oxxo</td>\n",
              "      <td>retail</td>\n",
              "      <td>10.56</td>\n",
              "      <td>2023-01-01 08:52:04+00:00</td>\n",
              "      <td>mobile</td>\n",
              "      <td>False</td>\n",
              "      <td>False</td>\n",
              "    </tr>\n",
              "    <tr>\n",
              "      <th>3</th>\n",
              "      <td>176693838346</td>\n",
              "      <td>89</td>\n",
              "      <td>consumer</td>\n",
              "      <td>CL</td>\n",
              "      <td>Amazon</td>\n",
              "      <td>e-commerce</td>\n",
              "      <td>43.70</td>\n",
              "      <td>2023-01-01 11:25:07+00:00</td>\n",
              "      <td>desktop</td>\n",
              "      <td>False</td>\n",
              "      <td>False</td>\n",
              "    </tr>\n",
              "    <tr>\n",
              "      <th>4</th>\n",
              "      <td>276091832029</td>\n",
              "      <td>921</td>\n",
              "      <td>merchant</td>\n",
              "      <td>MX</td>\n",
              "      <td>Airbnb</td>\n",
              "      <td>travel</td>\n",
              "      <td>139.69</td>\n",
              "      <td>2023-01-01 12:43:28+00:00</td>\n",
              "      <td>mobile</td>\n",
              "      <td>False</td>\n",
              "      <td>False</td>\n",
              "    </tr>\n",
              "    <tr>\n",
              "      <th>5</th>\n",
              "      <td>719575841950</td>\n",
              "      <td>854</td>\n",
              "      <td>consumer</td>\n",
              "      <td>BR</td>\n",
              "      <td>Shell</td>\n",
              "      <td>fuel</td>\n",
              "      <td>57.99</td>\n",
              "      <td>2023-01-01 13:12:01+00:00</td>\n",
              "      <td>desktop</td>\n",
              "      <td>False</td>\n",
              "      <td>False</td>\n",
              "    </tr>\n",
              "    <tr>\n",
              "      <th>6</th>\n",
              "      <td>966074701384</td>\n",
              "      <td>422</td>\n",
              "      <td>consumer</td>\n",
              "      <td>US</td>\n",
              "      <td>Steam</td>\n",
              "      <td>gaming</td>\n",
              "      <td>23.45</td>\n",
              "      <td>2023-01-01 15:40:19+00:00</td>\n",
              "      <td>mobile</td>\n",
              "      <td>False</td>\n",
              "      <td>False</td>\n",
              "    </tr>\n",
              "    <tr>\n",
              "      <th>7</th>\n",
              "      <td>291922513770</td>\n",
              "      <td>373</td>\n",
              "      <td>consumer</td>\n",
              "      <td>BR</td>\n",
              "      <td>DoorDash</td>\n",
              "      <td>food_delivery</td>\n",
              "      <td>11.44</td>\n",
              "      <td>2023-01-01 15:54:56+00:00</td>\n",
              "      <td>mobile</td>\n",
              "      <td>False</td>\n",
              "      <td>False</td>\n",
              "    </tr>\n",
              "    <tr>\n",
              "      <th>8</th>\n",
              "      <td>813015498665</td>\n",
              "      <td>784</td>\n",
              "      <td>consumer</td>\n",
              "      <td>US</td>\n",
              "      <td>Netflix</td>\n",
              "      <td>subscriptions</td>\n",
              "      <td>13.86</td>\n",
              "      <td>2023-01-01 20:05:01+00:00</td>\n",
              "      <td>mobile</td>\n",
              "      <td>False</td>\n",
              "      <td>False</td>\n",
              "    </tr>\n",
              "    <tr>\n",
              "      <th>9</th>\n",
              "      <td>463845325312</td>\n",
              "      <td>669</td>\n",
              "      <td>consumer</td>\n",
              "      <td>US</td>\n",
              "      <td>Uber</td>\n",
              "      <td>mobility</td>\n",
              "      <td>69.49</td>\n",
              "      <td>2023-01-01 21:17:45+00:00</td>\n",
              "      <td>desktop</td>\n",
              "      <td>False</td>\n",
              "      <td>False</td>\n",
              "    </tr>\n",
              "  </tbody>\n",
              "</table>\n",
              "</div>"
            ],
            "text/plain": [
              "   transaction_id  user_id   segment country   merchant       category  \\\n",
              "0    879463009885      208       SMB      AR  Microsoft    electronics   \n",
              "1    404737561214      183  consumer      US     Telcel          telco   \n",
              "2     12503321040      155  consumer      BR       Oxxo         retail   \n",
              "3    176693838346       89  consumer      CL     Amazon     e-commerce   \n",
              "4    276091832029      921  merchant      MX     Airbnb         travel   \n",
              "5    719575841950      854  consumer      BR      Shell           fuel   \n",
              "6    966074701384      422  consumer      US      Steam         gaming   \n",
              "7    291922513770      373  consumer      BR   DoorDash  food_delivery   \n",
              "8    813015498665      784  consumer      US    Netflix  subscriptions   \n",
              "9    463845325312      669  consumer      US       Uber       mobility   \n",
              "\n",
              "   amount                 timestamp device_type  is_refunded  is_fraudulent  \n",
              "0  126.02 2023-01-01 01:04:39+00:00      tablet        False          False  \n",
              "1   48.31 2023-01-01 03:08:19+00:00      tablet        False          False  \n",
              "2   10.56 2023-01-01 08:52:04+00:00      mobile        False          False  \n",
              "3   43.70 2023-01-01 11:25:07+00:00     desktop        False          False  \n",
              "4  139.69 2023-01-01 12:43:28+00:00      mobile        False          False  \n",
              "5   57.99 2023-01-01 13:12:01+00:00     desktop        False          False  \n",
              "6   23.45 2023-01-01 15:40:19+00:00      mobile        False          False  \n",
              "7   11.44 2023-01-01 15:54:56+00:00      mobile        False          False  \n",
              "8   13.86 2023-01-01 20:05:01+00:00      mobile        False          False  \n",
              "9   69.49 2023-01-01 21:17:45+00:00     desktop        False          False  "
            ]
          },
          "execution_count": 14,
          "metadata": {},
          "output_type": "execute_result"
        }
      ],
      "source": [
        "# Example 3: Direct query chain usage\n",
        "from src.chains.query_chain import run as run_query\n",
        "\n",
        "q3 = \"Top 10 merchants by total revenue\"\n",
        "res3 = run_query(q3)\n",
        "print('Keys:', list(res3.keys()))\n",
        "\n",
        "# Reconstruct DataFrame from 'split' orient\n",
        "split = res3['table']\n",
        "df3 = pd.DataFrame(split['data'], columns=split['columns'])\n",
        "df3.head(10)\n"
      ]
    },
    {
      "cell_type": "code",
      "execution_count": 15,
      "metadata": {},
      "outputs": [
        {
          "name": "stderr",
          "output_type": "stream",
          "text": [
            "[src.chains.summary_chain] INFO: SummaryChain initialized without LLM; using heuristic fallback\n",
            "[src.chains.summary_chain] INFO: SummaryChain using heuristic fallback for question: Top 10 merchants by total revenue\n"
          ]
        },
        {
          "name": "stdout",
          "output_type": "stream",
          "text": [
            "Summary for 'Top 10 merchants by total revenue': 20 rows. Top rows:\n",
            "|   transaction_id |   user_id | segment   | country   | merchant   | category    |   amount | timestamp                 | device_type   | is_refunded   | is_fraudulent   |\n",
            "|-----------------:|----------:|:----------|:----------|:-----------|:------------|---------:|:--------------------------|:--------------|:--------------|:----------------|\n",
            "|     879463009885 |       208 | SMB       | AR        | Microsoft  | electronics |   126.02 | 2023-01-01 01:04:39+00:00 | tablet        | False         | False           |\n",
            "|     404737561214 |       183 | consumer  | US        | Telcel     | telco       |    48.31 | 2023-01-01 03:08:19+00:00 | tablet        | False         | False           |\n",
            "|      12503321040 |       155 | consumer  | BR        | Oxxo       | retail      |    10.56 | 2023-01-01 08:52:04+00:00 | mobile        | False         | False           |\n",
            "|     176693838346 |        89 | consumer  | CL        | Amazon     | e-commerce  |    43.7  | 2023-01-01 11:25:07+00:00 | desktop       | False         | False           |\n",
            "|     276091832029 |       921 | merchant  | MX        | Airbnb     | travel      |   139.69 | 2023-01-01 12:43:28+00:00 | mobile        | False         | False           |\n"
          ]
        }
      ],
      "source": [
        "# Example 4: Summarize a result explicitly\n",
        "from src.chains.summary_chain import SummaryChain\n",
        "\n",
        "summary = SummaryChain().run(q3, df3)\n",
        "print(summary)\n"
      ]
    },
    {
      "cell_type": "code",
      "execution_count": 16,
      "metadata": {},
      "outputs": [
        {
          "name": "stderr",
          "output_type": "stream",
          "text": [
            "[src.chains.query_chain] INFO: QueryChain initialized without LLM; using heuristic fallback\n",
            "[src.chains.query_chain] INFO: QueryChain using heuristic fallback for question: What was the total payment volume last week?\n",
            "[src.chains.summary_chain] INFO: SummaryChain initialized without LLM; using heuristic fallback\n",
            "[src.chains.summary_chain] INFO: SummaryChain using heuristic fallback for question: What was the total payment volume last week?\n"
          ]
        },
        {
          "name": "stdout",
          "output_type": "stream",
          "text": [
            "[router] llm_used=False provider=- model=-\n",
            "Route: data\n",
            "Answer: Summary for 'What was the total payment volume last week?': 20 rows. Top rows:\n",
            "|   transaction_id |   user_id | segment   | country   | merchant   | category    |   amount | timestamp                 | device_type   | is_refunded   | is_fraudulent   |\n",
            "|-----------------:|----------:|:----------|:----------|:-----------|:------------|---------:|:--------------------------|:--------------|:--------------|:----------------|\n",
            "|     879463009885 |       208 | SMB       | AR        | Microsoft  | electronics |   126.02 | 2023-01-01 01:04:39+00:00 | tablet        | False         | False           |\n",
            "|     404737561214 |       183 | consumer  | US        | Telcel     | telco       |    48.31 | 2023-01-01 03:08:19+00:00 | tablet        | False         | False           |\n",
            "|      12503321040 |       155 | consumer  | BR        | Oxxo       | retail      |    10.56 | 2023-01-01 08:52:04+00:00 | mobile        | False         | False           |\n",
            "|     176693838346 |        89 | consumer  | CL        | Amazon     | e-commerce  |    43.7  | 2023-01-01 11:25:07+00:00 | desktop       | False         | False           |\n",
            "|     276091832029 |       921 | merchant  | MX        | Airbnb     | travel      |   139.69 | 2023-01-01 12:43:28+00:00 | mobile        | False         | False           |\n"
          ]
        },
        {
          "name": "stderr",
          "output_type": "stream",
          "text": [
            "/tmp/ipykernel_197656/4134056275.py:13: RuntimeWarning: coroutine 'ask_async' was never awaited\n",
            "  resp = ask(q)\n",
            "RuntimeWarning: Enable tracemalloc to get the object allocation traceback\n"
          ]
        }
      ],
      "source": [
        "# Example 5 (optional): Async ask()\n",
        "# If the notebook environment has an event loop, fallback to sync.\n",
        "try:\n",
        "    import asyncio\n",
        "    from src.chains.router_chain import ask_async\n",
        "    \n",
        "    def run_async_example():\n",
        "        q = \"What was the total payment volume last week?\"\n",
        "        try:\n",
        "            resp = asyncio.run(ask_async(q))\n",
        "        except RuntimeError:\n",
        "            # Fallback if event loop is already running\n",
        "            resp = ask(q)\n",
        "        print('Route:', resp['route'])\n",
        "        print('Answer:', resp['answer'])\n",
        "        return resp\n",
        "    \n",
        "    _ = run_async_example()\n",
        "except Exception as e:\n",
        "    print('Async example skipped:', e)\n"
      ]
    },
    {
      "cell_type": "code",
      "execution_count": null,
      "metadata": {},
      "outputs": [],
      "source": []
    }
  ],
  "metadata": {
    "kernelspec": {
      "display_name": ".venv",
      "language": "python",
      "name": "python3"
    },
    "language_info": {
      "codemirror_mode": {
        "name": "ipython",
        "version": 3
      },
      "file_extension": ".py",
      "mimetype": "text/x-python",
      "name": "python",
      "nbconvert_exporter": "python",
      "pygments_lexer": "ipython3",
      "version": "3.10.12"
    }
  },
  "nbformat": 4,
  "nbformat_minor": 2
}
